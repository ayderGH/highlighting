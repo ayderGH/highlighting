{
 "cells": [
  {
   "cell_type": "code",
   "execution_count": 7,
   "metadata": {},
   "outputs": [],
   "source": [
    "import requests\n",
    "from hlparser import HighlightedParser\n",
    "\n",
    "hp = HighlightedParser()"
   ]
  },
  {
   "cell_type": "code",
   "execution_count": 8,
   "metadata": {},
   "outputs": [],
   "source": [
    "old_filing_url = \"https://www.sec.gov/Archives/edgar/data/789019/000119312516742796/d245252d10q.htm\"\n",
    "new_filing_url = \"https://www.sec.gov/Archives/edgar/data/789019/000156459017000654/msft-10q_20161231.htm\"\n",
    "\n",
    "old_filing_html = requests.get(old_filing_url)\n",
    "new_filing_html = requests.get(new_filing_url)\n",
    "\n",
    "old_filing_text = hp.get_processed_html(old_filing_html.text)\n",
    "new_filing_text = hp.get_processed_html(new_filing_html.text)"
   ]
  },
  {
   "cell_type": "code",
   "execution_count": 17,
   "metadata": {},
   "outputs": [
    {
     "name": "stdout",
     "output_type": "stream",
     "text": [
      "Foreign currency risks related to certain non-U.S. dollar denominated securities are hedged using foreign exchange forward contracts that are designated as fair value hedging instruments. As of December 31, 2016 and June 30, 2016, the total notional amounts of these foreign exchange contracts sold were $4.5 billion and $5.3 billion, respectively.\n"
     ]
    }
   ],
   "source": [
    "highlighted_pattern = \"\"\"\n",
    "Foreign currency risks related to certain non-U.S. dollar denominated securities are hedged using\n",
    "foreign exchange forward contracts that are designated as fair value hedging instruments.\n",
    "As of September 30, 2016 and June 30, 2016, the total notional amounts of these foreign\n",
    "exchange contracts sold were $5.2 billion and $5.3 billion, respectively.\n",
    "\"\"\"\n",
    "\n",
    "matches = hp.find_text(highlighted_pattern, \n",
    "                       new_filing_text, \n",
    "                       ignore_money=True, \n",
    "                       ignore_date=True)\n",
    "\n",
    "if len(matches) > 0:\n",
    "    highlighted_text = matches[0][0]\n",
    "    print(highlighted_text)\n",
    "else:\n",
    "    highlighted_text = None\n",
    "    print(\"Nothing found!\")"
   ]
  },
  {
   "cell_type": "code",
   "execution_count": null,
   "metadata": {
    "collapsed": true
   },
   "outputs": [],
   "source": []
  }
 ],
 "metadata": {
  "kernelspec": {
   "display_name": "Python 3",
   "language": "python",
   "name": "python3"
  },
  "language_info": {
   "codemirror_mode": {
    "name": "ipython",
    "version": 3
   },
   "file_extension": ".py",
   "mimetype": "text/x-python",
   "name": "python",
   "nbconvert_exporter": "python",
   "pygments_lexer": "ipython3",
   "version": "3.6.1"
  }
 },
 "nbformat": 4,
 "nbformat_minor": 2
}
